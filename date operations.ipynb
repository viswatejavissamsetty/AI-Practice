{
 "cells": [
  {
   "cell_type": "code",
   "execution_count": 8,
   "metadata": {},
   "outputs": [],
   "source": [
    "import datetime\n",
    "import time"
   ]
  },
  {
   "cell_type": "code",
   "execution_count": 5,
   "metadata": {},
   "outputs": [],
   "source": [
    "t1 = datetime.datetime(2021, 3, 10, 0, 0, 0)\n",
    "t2 = datetime.datetime(2021, 3, 9, 0, 0, 0)"
   ]
  },
  {
   "cell_type": "code",
   "execution_count": 7,
   "metadata": {},
   "outputs": [
    {
     "data": {
      "text/plain": [
       "datetime.timedelta(days=1)"
      ]
     },
     "execution_count": 7,
     "metadata": {},
     "output_type": "execute_result"
    }
   ],
   "source": [
    "(t1 - t2)"
   ]
  },
  {
   "cell_type": "code",
   "execution_count": 9,
   "metadata": {},
   "outputs": [
    {
     "data": {
      "text/plain": [
       "1649999216.6265502"
      ]
     },
     "execution_count": 9,
     "metadata": {},
     "output_type": "execute_result"
    }
   ],
   "source": [
    "time.time()"
   ]
  },
  {
   "cell_type": "code",
   "execution_count": 10,
   "metadata": {},
   "outputs": [
    {
     "data": {
      "text/plain": [
       "'Fri Apr 15 10:37:03 2022'"
      ]
     },
     "execution_count": 10,
     "metadata": {},
     "output_type": "execute_result"
    }
   ],
   "source": [
    "time.ctime()"
   ]
  },
  {
   "cell_type": "code",
   "execution_count": 11,
   "metadata": {},
   "outputs": [
    {
     "data": {
      "text/plain": [
       "time.struct_time(tm_year=2022, tm_mon=4, tm_mday=15, tm_hour=5, tm_min=7, tm_sec=15, tm_wday=4, tm_yday=105, tm_isdst=0)"
      ]
     },
     "execution_count": 11,
     "metadata": {},
     "output_type": "execute_result"
    }
   ],
   "source": [
    "time.gmtime()"
   ]
  },
  {
   "cell_type": "code",
   "execution_count": 12,
   "metadata": {},
   "outputs": [
    {
     "data": {
      "text/plain": [
       "'Fri Apr 15 10:37:31 2022'"
      ]
     },
     "execution_count": 12,
     "metadata": {},
     "output_type": "execute_result"
    }
   ],
   "source": [
    "time.asctime()"
   ]
  },
  {
   "cell_type": "code",
   "execution_count": 14,
   "metadata": {},
   "outputs": [
    {
     "data": {
      "text/plain": [
       "182634.671"
      ]
     },
     "execution_count": 14,
     "metadata": {},
     "output_type": "execute_result"
    }
   ],
   "source": [
    "time.monotonic()"
   ]
  },
  {
   "cell_type": "code",
   "execution_count": 16,
   "metadata": {},
   "outputs": [
    {
     "data": {
      "text/plain": [
       "2.375"
      ]
     },
     "execution_count": 16,
     "metadata": {},
     "output_type": "execute_result"
    }
   ],
   "source": [
    "time.process_time()"
   ]
  },
  {
   "cell_type": "code",
   "execution_count": 17,
   "metadata": {},
   "outputs": [
    {
     "data": {
      "text/plain": [
       "-19800"
      ]
     },
     "execution_count": 17,
     "metadata": {},
     "output_type": "execute_result"
    }
   ],
   "source": [
    "time.timezone"
   ]
  },
  {
   "cell_type": "code",
   "execution_count": 19,
   "metadata": {},
   "outputs": [
    {
     "name": "stdout",
     "output_type": "stream",
     "text": [
      "Before sleep\n",
      "After Sleep\n"
     ]
    }
   ],
   "source": [
    "print(\"Before sleep\")\n",
    "time.sleep(3)\n",
    "print(\"After Sleep\")"
   ]
  },
  {
   "cell_type": "code",
   "execution_count": 20,
   "metadata": {},
   "outputs": [],
   "source": [
    "import calendar"
   ]
  },
  {
   "cell_type": "code",
   "execution_count": 24,
   "metadata": {},
   "outputs": [
    {
     "data": {
      "text/plain": [
       "'                                                                                                                      2022\\n\\n                                  January                                                                           February                                                                           March\\n  Monday    Tuesday   Wednesday   Thursday    Friday    Saturday    Sunday          Monday    Tuesday   Wednesday   Thursday    Friday    Saturday    Sunday          Monday    Tuesday   Wednesday   Thursday    Friday    Saturday    Sunday\\n                                                            1          2                          1          2          3          4          5          6                          1          2          3          4          5          6\\n     3          4          5          6          7          8          9               7          8          9         10         11         12         13               7          8          9         10         11         12         13\\n    10         11         12         13         14         15         16              14         15         16         17         18         19         20              14         15         16         17         18         19         20\\n    17         18         19         20         21         22         23              21         22         23         24         25         26         27              21         22         23         24         25         26         27\\n    24         25         26         27         28         29         30              28                                                                                28         29         30         31\\n    31\\n\\n                                   April                                                                              May                                                                               June\\n  Monday    Tuesday   Wednesday   Thursday    Friday    Saturday    Sunday          Monday    Tuesday   Wednesday   Thursday    Friday    Saturday    Sunday          Monday    Tuesday   Wednesday   Thursday    Friday    Saturday    Sunday\\n                                                 1          2          3                                                                                 1                                     1          2          3          4          5\\n     4          5          6          7          8          9         10               2          3          4          5          6          7          8               6          7          8          9         10         11         12\\n    11         12         13         14         15         16         17               9         10         11         12         13         14         15              13         14         15         16         17         18         19\\n    18         19         20         21         22         23         24              16         17         18         19         20         21         22              20         21         22         23         24         25         26\\n    25         26         27         28         29         30                         23         24         25         26         27         28         29              27         28         29         30\\n                                                                                      30         31\\n\\n                                    July                                                                             August                                                                          September\\n  Monday    Tuesday   Wednesday   Thursday    Friday    Saturday    Sunday          Monday    Tuesday   Wednesday   Thursday    Friday    Saturday    Sunday          Monday    Tuesday   Wednesday   Thursday    Friday    Saturday    Sunday\\n                                                 1          2          3               1          2          3          4          5          6          7                                                1          2          3          4\\n     4          5          6          7          8          9         10               8          9         10         11         12         13         14               5          6          7          8          9         10         11\\n    11         12         13         14         15         16         17              15         16         17         18         19         20         21              12         13         14         15         16         17         18\\n    18         19         20         21         22         23         24              22         23         24         25         26         27         28              19         20         21         22         23         24         25\\n    25         26         27         28         29         30         31              29         30         31                                                          26         27         28         29         30\\n\\n                                  October                                                                           November                                                                          December\\n  Monday    Tuesday   Wednesday   Thursday    Friday    Saturday    Sunday          Monday    Tuesday   Wednesday   Thursday    Friday    Saturday    Sunday          Monday    Tuesday   Wednesday   Thursday    Friday    Saturday    Sunday\\n                                                            1          2                          1          2          3          4          5          6                                                1          2          3          4\\n     3          4          5          6          7          8          9               7          8          9         10         11         12         13               5          6          7          8          9         10         11\\n    10         11         12         13         14         15         16              14         15         16         17         18         19         20              12         13         14         15         16         17         18\\n    17         18         19         20         21         22         23              21         22         23         24         25         26         27              19         20         21         22         23         24         25\\n    24         25         26         27         28         29         30              28         29         30                                                          26         27         28         29         30         31\\n    31\\n'"
      ]
     },
     "execution_count": 24,
     "metadata": {},
     "output_type": "execute_result"
    }
   ],
   "source": [
    "calendar.calendar(2022, 10, 1)"
   ]
  },
  {
   "cell_type": "code",
   "execution_count": 26,
   "metadata": {},
   "outputs": [
    {
     "data": {
      "text/plain": [
       "['Monday', 'Tuesday', 'Wednesday', 'Thursday', 'Friday', 'Saturday', 'Sunday']"
      ]
     },
     "execution_count": 26,
     "metadata": {},
     "output_type": "execute_result"
    }
   ],
   "source": [
    "list(calendar.day_name)"
   ]
  },
  {
   "cell_type": "code",
   "execution_count": 27,
   "metadata": {},
   "outputs": [
    {
     "data": {
      "text/plain": [
       "['Mon', 'Tue', 'Wed', 'Thu', 'Fri', 'Sat', 'Sun']"
      ]
     },
     "execution_count": 27,
     "metadata": {},
     "output_type": "execute_result"
    }
   ],
   "source": [
    "list(calendar.day_abbr)"
   ]
  },
  {
   "cell_type": "code",
   "execution_count": 31,
   "metadata": {},
   "outputs": [
    {
     "data": {
      "text/plain": [
       "repeat(1)"
      ]
     },
     "execution_count": 31,
     "metadata": {},
     "output_type": "execute_result"
    }
   ],
   "source": [
    "calendar.repeat(1)"
   ]
  },
  {
   "cell_type": "code",
   "execution_count": null,
   "metadata": {},
   "outputs": [],
   "source": []
  }
 ],
 "metadata": {
  "interpreter": {
   "hash": "b092a38ea95f1d08cedbc9feb8e23205e8927bb6223b26343408505ce7b2726a"
  },
  "kernelspec": {
   "display_name": "Python 3.10.4 ('.env': venv)",
   "language": "python",
   "name": "python3"
  },
  "language_info": {
   "codemirror_mode": {
    "name": "ipython",
    "version": 3
   },
   "file_extension": ".py",
   "mimetype": "text/x-python",
   "name": "python",
   "nbconvert_exporter": "python",
   "pygments_lexer": "ipython3",
   "version": "3.10.4"
  },
  "orig_nbformat": 4
 },
 "nbformat": 4,
 "nbformat_minor": 2
}
